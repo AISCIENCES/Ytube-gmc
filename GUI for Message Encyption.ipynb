{
 "cells": [
  {
   "cell_type": "code",
   "execution_count": 1,
   "metadata": {},
   "outputs": [],
   "source": [
    "# import tkinter module\n",
    "from tkinter import *\n",
    "\n",
    "# import other necessery modules\n",
    "import random\n",
    "\n",
    "# cipher for encryption and decryption\n",
    "import base64"
   ]
  },
  {
   "cell_type": "code",
   "execution_count": 2,
   "metadata": {},
   "outputs": [],
   "source": [
    "root = Tk()\n",
    "root.geometry(\"1200x6000\")\n",
    "root.title(\"Message Encryption & Decryption\")\n",
    "Tops = Frame(root, width=1600, relief=SUNKEN)\n",
    "Tops.pack(side=TOP)\n",
    "\n",
    "f1 = Frame(root, width=800, relief=SUNKEN)\n",
    "f1.pack(side=LEFT)"
   ]
  },
  {
   "cell_type": "code",
   "execution_count": 3,
   "metadata": {},
   "outputs": [],
   "source": [
    "lblInfo = Label(Tops, font=(\"Robot\", 40, 'bold'), text=\"My custom Cryptography APP\",\n",
    "               fg=\"Black\", bd=10, anchor='w')\n",
    "lblInfo.grid(row=0, column=0)"
   ]
  },
  {
   "cell_type": "code",
   "execution_count": 4,
   "metadata": {},
   "outputs": [],
   "source": [
    "Msg = StringVar()\n",
    "key = StringVar()\n",
    "mode = StringVar()\n",
    "result = StringVar()"
   ]
  },
  {
   "cell_type": "code",
   "execution_count": 5,
   "metadata": {},
   "outputs": [],
   "source": [
    "lblMsg = Label(f1, font=('arial', 16, 'bold'), text = \"Message\", bd=16, anchor='w')\n",
    "lblMsg.grid(row=1, column=0)\n",
    "\n",
    "\n",
    "txtMsg = Entry(f1, font=('arial', 16, 'bold'), textvariable = Msg, bd=10,\n",
    "              insertwidth=4, bg=\"powder blue\", justify='right')\n",
    "txtMsg.grid(row=1, column=1)\n",
    "\n",
    "\n",
    "\n",
    "lblkey = Label(f1, font=('arial', 16, 'bold'), text = \"Key\", bd=16, anchor='w')\n",
    "lblkey.grid(row=2, column=0)\n",
    "\n",
    "\n",
    "txtkey = Entry(f1, font=('arial', 16, 'bold'), textvariable = key, bd=10,\n",
    "              insertwidth=4, bg=\"powder blue\", justify='right')\n",
    "txtkey.grid(row=2, column=1)\n",
    "\n",
    "\n",
    "\n",
    "\n",
    "lblmode = Label(f1, font=('arial', 16, 'bold'), text = \"Mode(e for Enc, d for Dec)\",\n",
    "                bd=16, anchor='w')\n",
    "lblmode.grid(row=3, column=0)\n",
    "\n",
    "\n",
    "txtmode = Entry(f1, font=('arial', 16, 'bold'), textvariable = mode, bd=10,\n",
    "              insertwidth=4, bg=\"powder blue\", justify='right')\n",
    "txtmode.grid(row=3, column=1)\n",
    "\n",
    "\n",
    "lblResult = Label(f1, font=('arial', 16, 'bold'), text = \"Result\", bd=16, anchor='w')\n",
    "lblResult.grid(row=2, column=2)\n",
    "\n",
    "\n",
    "txtResult = Entry(f1, font=('arial', 16, 'bold'), textvariable = result, bd=10,\n",
    "              insertwidth=4, bg=\"powder blue\", justify='right')\n",
    "txtResult.grid(row=2, column=3)"
   ]
  },
  {
   "cell_type": "code",
   "execution_count": 6,
   "metadata": {},
   "outputs": [],
   "source": [
    "def encode(key, msg):\n",
    "    enc=[]\n",
    "    for i in range(len(msg)):\n",
    "        key_c = key[i%len(key)]\n",
    "        enc_c = chr((ord(msg[i])+ord(key_c))%256)\n",
    "        enc.append(enc_c)\n",
    "        \n",
    "    return base64.urlsafe_b64encode(\"\".join(enc).encode()).decode()\n",
    "\n",
    "def decode(key, enc):\n",
    "    dec = []\n",
    "    enc = base64.urlsafe_b64decode(enc).decode()\n",
    "    for i in range(len(enc)):\n",
    "        key_c = key[i%len(key)]\n",
    "        dec_c = chr((256+ord(enc[i])-ord(key_c))%256)\n",
    "        \n",
    "        dec.append(dec_c)\n",
    "        \n",
    "    return \"\".join(dec)\n",
    "\n",
    "def Results():\n",
    "    msg = Msg.get()\n",
    "    k = key.get()\n",
    "    m = mode.get()\n",
    "    if (m=='e'):\n",
    "        result.set(encode(k, msg))\n",
    "    else:\n",
    "        result.set(decode(k, msg))\n",
    "\n",
    "def Reset():\n",
    "    Msg.set(\"\")\n",
    "    key.set(\"\")\n",
    "    mode.set(\"\")\n",
    "\n",
    "def Exit():\n",
    "    root.destroy()"
   ]
  },
  {
   "cell_type": "code",
   "execution_count": 7,
   "metadata": {},
   "outputs": [],
   "source": [
    "btnTotal = Button(f1, padx=16, pady=8, bd=16, fg=\"black\",\n",
    "                 font=('arial', 16, 'bold'), width=10,\n",
    "                 text=\"Show Message\", bg=\"powder blue\",\n",
    "                 command=Results).grid(row=7, column=1)\n",
    "\n",
    "btnReset = Button(f1, padx=16, pady=8, bd=16, fg=\"black\",\n",
    "                 font=('arial', 16, 'bold'), width=10,\n",
    "                 text=\"Reset\", bg=\"powder blue\",\n",
    "                 command=Reset).grid(row=7, column=2)\n",
    "\n",
    "btnExit = Button(f1, padx=16, pady=8, bd=16, fg=\"black\",\n",
    "                 font=('arial', 16, 'bold'), width=10,\n",
    "                 text=\"Exit\", bg=\"powder blue\",\n",
    "                 command=Exit).grid(row=7, column=3)"
   ]
  },
  {
   "cell_type": "code",
   "execution_count": 8,
   "metadata": {},
   "outputs": [],
   "source": [
    "root.mainloop()"
   ]
  },
  {
   "cell_type": "code",
   "execution_count": null,
   "metadata": {},
   "outputs": [],
   "source": []
  },
  {
   "cell_type": "code",
   "execution_count": null,
   "metadata": {},
   "outputs": [],
   "source": []
  },
  {
   "cell_type": "code",
   "execution_count": null,
   "metadata": {},
   "outputs": [],
   "source": []
  },
  {
   "cell_type": "code",
   "execution_count": null,
   "metadata": {},
   "outputs": [],
   "source": []
  },
  {
   "cell_type": "code",
   "execution_count": null,
   "metadata": {},
   "outputs": [],
   "source": []
  },
  {
   "cell_type": "code",
   "execution_count": null,
   "metadata": {},
   "outputs": [],
   "source": []
  },
  {
   "cell_type": "code",
   "execution_count": null,
   "metadata": {},
   "outputs": [],
   "source": []
  },
  {
   "cell_type": "code",
   "execution_count": null,
   "metadata": {},
   "outputs": [],
   "source": []
  },
  {
   "cell_type": "code",
   "execution_count": null,
   "metadata": {},
   "outputs": [],
   "source": []
  }
 ],
 "metadata": {
  "kernelspec": {
   "display_name": "Python 3",
   "language": "python",
   "name": "python3"
  },
  "language_info": {
   "codemirror_mode": {
    "name": "ipython",
    "version": 3
   },
   "file_extension": ".py",
   "mimetype": "text/x-python",
   "name": "python",
   "nbconvert_exporter": "python",
   "pygments_lexer": "ipython3",
   "version": "3.8.3"
  }
 },
 "nbformat": 4,
 "nbformat_minor": 4
}
